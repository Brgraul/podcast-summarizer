{
 "cells": [
  {
   "cell_type": "code",
   "execution_count": 22,
   "metadata": {},
   "outputs": [
    {
     "name": "stdout",
     "output_type": "stream",
     "text": [
      "Episode 0 saved as episode_0.txt\n",
      "Episode 1 saved as episode_1.txt\n",
      "Episode 2 saved as episode_2.txt\n",
      "Episode 3 saved as episode_3.txt\n",
      "Episode 4 saved as episode_4.txt\n",
      "Episode 5 saved as episode_5.txt\n",
      "Episode 6 saved as episode_6.txt\n",
      "Episode 7 saved as episode_7.txt\n",
      "Episode 8 saved as episode_8.txt\n",
      "Episode 9 saved as episode_9.txt\n",
      "Episode 10 saved as episode_10.txt\n",
      "Episode 11 saved as episode_11.txt\n",
      "Episode 12 saved as episode_12.txt\n",
      "Episode 13 saved as episode_13.txt\n",
      "Episode 14 saved as episode_14.txt\n",
      "Episode 15 saved as episode_15.txt\n",
      "Episode 16 saved as episode_16.txt\n",
      "Episode 17 saved as episode_17.txt\n",
      "Episode 18 saved as episode_18.txt\n",
      "Episode 19 saved as episode_19.txt\n",
      "Episode 20 saved as episode_20.txt\n",
      "Episode 21 saved as episode_21.txt\n",
      "Episode 22 saved as episode_22.txt\n",
      "Episode 23 saved as episode_23.txt\n",
      "Episode 24 saved as episode_24.txt\n",
      "Episode 25 saved as episode_25.txt\n",
      "Episode 26 saved as episode_26.txt\n",
      "Episode 27 saved as episode_27.txt\n",
      "Episode 28 saved as episode_28.txt\n",
      "Episode 29 saved as episode_29.txt\n",
      "Episode 30 saved as episode_30.txt\n",
      "Episode 31 saved as episode_31.txt\n",
      "Episode 32 saved as episode_32.txt\n",
      "Episode 33 saved as episode_33.txt\n",
      "Episode 34 saved as episode_34.txt\n",
      "Episode 35 saved as episode_35.txt\n",
      "Episode 36 saved as episode_36.txt\n"
     ]
    }
   ],
   "source": [
    "import os\n",
    "import re\n",
    "\n",
    "def parse_filename(filename):\n",
    "    \"\"\"Extract episode and part number from filename.\"\"\"\n",
    "    match = re.match(r'episode_(\\d+)_(\\d+)\\.txt', filename)\n",
    "    if match:\n",
    "        return int(match.group(1)), int(match.group(2))\n",
    "    return None\n",
    "\n",
    "def concatenate_single_episode(directory, episode_number):\n",
    "    \"\"\"Concatenate parts of a single episode and save to a file.\"\"\"\n",
    "    episode_parts = []\n",
    "\n",
    "    # Scan the directory for files of the specified episode\n",
    "    for filename in os.listdir(directory):\n",
    "        result = parse_filename(filename)\n",
    "        if result:\n",
    "            episode, part = result\n",
    "            if episode == episode_number:\n",
    "                episode_parts.append((part, filename))\n",
    "\n",
    "    # Sort and concatenate the parts of the episode\n",
    "    full_episode = \"\"\n",
    "    for part, filename in sorted(episode_parts):\n",
    "        try:\n",
    "            with open(os.path.join(directory, filename), 'r') as file:\n",
    "                full_episode += file.read() + \"\\n\"\n",
    "        except IOError as e:\n",
    "            print(f\"Error reading file {filename}: {e}\")\n",
    "\n",
    "    # Save the concatenated episode\n",
    "    output_filename = f\"episode_{episode_number}.txt\"\n",
    "    with open(os.path.join(directory, output_filename), 'w') as file:\n",
    "        file.write(full_episode)\n",
    "\n",
    "    print(f\"Episode {episode_number} saved as {output_filename}\")\n",
    "\n",
    "# Example usage\n",
    "directory = \"downloads/whisper\"\n",
    "for i in range(0,37):\n",
    "    concatenate_single_episode(directory, i)"
   ]
  },
  {
   "cell_type": "code",
   "execution_count": 17,
   "metadata": {},
   "outputs": [],
   "source": [
    "import openai\n",
    "\n",
    "openai.api_key = os.getenv(\"OPENAI_API_KEY\")\n",
    "\n",
    "transcript = open(\"downloads/whisper/episode_0.txt\", \"r\").read()\n",
    "messages=[\n",
    "        {\"role\": \"system\", \"content\": \"As a world-class editor renowned for extracting key insights from expert interviews, your current focus is on interviewing pedagogical experts to craft a book that demystifies the creation of top-tier online courses. Your expertise in distinguishing valuable insights from anecdotal content, coupled with a strong empathy for readers' needs, guides you in presenting complex information accessibly. This project aims to synthesize expert opinions and practical advice into a comprehensive guide for educators and digital course creators.\"},\n",
    "        {\"role\": \"user\", \"content\": f\"Your task is to identify unique insights in course creation from the podcast transcript that I will give you between triple quotes. Please be exhaustive, such that no insight is not included, and go in-depth when explaining each insight, backing it up with a paragraph of at least 150 words. ```{transcript}```\"},\n",
    "]\n",
    "\n",
    "response = openai.chat.completions.create(\n",
    "model=\"gpt-4-1106-preview\",\n",
    "temperature=0.6,\n",
    "messages = messages)"
   ]
  },
  {
   "cell_type": "code",
   "execution_count": 18,
   "metadata": {},
   "outputs": [
    {
     "data": {
      "text/plain": [
       "\"The interview with Greg reveals several unique insights into the creation of top-tier online courses and the learning process:\\n\\n1. **Adaptive Learning Techniques**: Greg discusses how his approach to learning complex topics evolves over time, emphasizing adaptability. He describes a recent experience where he enrolled in a blockchain course and completed it by using a technique of quickly scanning through material and rewriting it in his own words. This insight highlights the importance of experimenting with different learning techniques and adjusting them based on the subject matter and prior knowledge.\\n\\n2. **Goal-Oriented Learning**: He stresses setting clear, practical goals before approaching a topic. When he took the blockchain course, he had specific objectives, like creating an NFT and a smart contract. This insight underscores the significance of having a clear outcome in mind, which can guide the learning process and ensure that it's relevant and focused.\\n\\n3. **Active Engagement with Material**: Greg advocates for an active learning approach where, instead of passively reading or memorizing, learners should frequently question their understanding, write bullet points, and explain concepts to others. This insight is backed by the idea that teaching others is a powerful way to solidify one's own understanding.\\n\\n4. **Leveraging Workplace Learning**: He shares an example from Google where employees are encouraged to learn new skills and then teach them to their colleagues. This approach not only reinforces the learned material but also sets a deadline that can motivate and structure the learning process.\\n\\n5. **Importance of Course Design**: Greg criticizes the tendency to focus on marketing courses rather than designing effective learning experiences. He believes that the best courses result from the instructor's engagement in the course creation process and a focus on instructional design, which includes careful planning of content and structure.\\n\\n6. **Iterative Development and Feedback**: He emphasizes the importance of developing courses iteratively, with feedback from students throughout the process. This approach ensures the course content is relevant and comprehensible to the target audience.\\n\\n7. **The Role of Technology in Learning**: Greg discusses the custom development of his platforms, LearnUX and Eduweb, to create a better learning experience than what he found available. He points out the potential of technology to revolutionize online learning by integrating features like cue points, tagging, and group work based on course progress.\\n\\n8. **Diverse Learning Experiences**: He suggests that diversifying one's projects can prevent burnout and maintain a fresh perspective, which is crucial for creating engaging learning experiences.\\n\\n9. **Authenticity and Passion in Teaching**: Greg emphasizes the need for genuine enthusiasm and passion when creating courses. Instructors should wait until they feel a strong urge to share their knowledge before recording a course to ensure the delivery is compelling and authentic.\\n\\n10. **Custom vs. White-label Platforms**: Greg shares his experience with custom-built platforms, highlighting that existing solutions often lacked the features he needed to create the best learning experience. He points out that while simpler platforms might be sufficient for some purposes, custom solutions are sometimes necessary to achieve specific educational goals.\\n\\nThese insights can serve as valuable guidelines for educators and digital course creators, providing a comprehensive understanding of the nuances involved in creating effective online courses. The emphasis on adaptability, goal setting, active engagement, iterative development, and the strategic use of technology reflects a deep understanding of the learning process and course creation.\""
      ]
     },
     "execution_count": 18,
     "metadata": {},
     "output_type": "execute_result"
    }
   ],
   "source": [
    "response.choices[0].message.content"
   ]
  }
 ],
 "metadata": {
  "kernelspec": {
   "display_name": "sophia",
   "language": "python",
   "name": "python3"
  },
  "language_info": {
   "codemirror_mode": {
    "name": "ipython",
    "version": 3
   },
   "file_extension": ".py",
   "mimetype": "text/x-python",
   "name": "python",
   "nbconvert_exporter": "python",
   "pygments_lexer": "ipython3",
   "version": "3.12.0rc1"
  }
 },
 "nbformat": 4,
 "nbformat_minor": 2
}
